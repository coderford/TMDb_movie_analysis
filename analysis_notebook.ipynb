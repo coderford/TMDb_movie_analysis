{
 "cells": [
  {
   "cell_type": "markdown",
   "metadata": {},
   "source": [
    "# Project: Investigate a Dataset (TMDb Movie Data)\n",
    "\n",
    "## Table of Contents\n",
    "<ul>\n",
    "<li><a href=\"#intro\">Introduction</a></li>\n",
    "<li><a href=\"#wrangling\">Data Wrangling</a></li>\n",
    "<li><a href=\"#eda\">Exploratory Data Analysis</a></li>\n",
    "<li><a href=\"#conclusions\">Conclusions</a></li>\n",
    "</ul>"
   ]
  },
  {
   "cell_type": "markdown",
   "metadata": {},
   "source": [
    "<a id='intro'></a>\n",
    "## Introduction\n",
    "For this project I have chosen to analyse movie data from TMDb ([The Movie Database](https://www.themoviedb.org)) for over 10,000 movies aggregated by [Kaggle](https://www.kaggle.com). The data contains information such as genre, cast, budget, revenue, popularity, rating etc. \n",
    "\n",
    "_These are the question I want to explore:_\n",
    "\n",
    "1. Trends in budget and revenue over the years.\n",
    "2. What are the characteristics of movies with highest revenues?\n",
    "    * Budget\n",
    "    * Popularity\n",
    "    * Cast\n",
    "    * Genres\n",
    "    * Production Companies\n",
    "    * Director\n",
    "    * Month and Day of the week of release"
   ]
  },
  {
   "cell_type": "markdown",
   "metadata": {},
   "source": [
    "### Environment Setup"
   ]
  },
  {
   "cell_type": "code",
   "execution_count": 45,
   "metadata": {},
   "outputs": [],
   "source": [
    "## import statements\n",
    "import unicodecsv\n",
    "from pprint import pprint\n",
    "import numpy as np\n",
    "import pandas as pd\n",
    "import matplotlib.pyplot as plt\n",
    "import seaborn as sns\n",
    "\n",
    "## magics\n",
    "%matplotlib inline\n",
    "\n",
    "## initializations\n",
    "sns.set_style('darkgrid')\n",
    "tmdb_csv_file = 'tmdb-movies.csv'\n",
    "plt.rcParams.update({'font.size': 12}) # set font size for plot labels and titles"
   ]
  },
  {
   "cell_type": "markdown",
   "metadata": {},
   "source": [
    "<a id='wrangling'></a>\n",
    "## Data Wrangling\n",
    "\n",
    "### General Properties"
   ]
  },
  {
   "cell_type": "markdown",
   "metadata": {},
   "source": [
    "Let's take a look at some of the rows in the data:"
   ]
  },
  {
   "cell_type": "code",
   "execution_count": 2,
   "metadata": {},
   "outputs": [
    {
     "data": {
      "text/html": [
       "<div>\n",
       "<style scoped>\n",
       "    .dataframe tbody tr th:only-of-type {\n",
       "        vertical-align: middle;\n",
       "    }\n",
       "\n",
       "    .dataframe tbody tr th {\n",
       "        vertical-align: top;\n",
       "    }\n",
       "\n",
       "    .dataframe thead th {\n",
       "        text-align: right;\n",
       "    }\n",
       "</style>\n",
       "<table border=\"1\" class=\"dataframe\">\n",
       "  <thead>\n",
       "    <tr style=\"text-align: right;\">\n",
       "      <th></th>\n",
       "      <th>id</th>\n",
       "      <th>imdb_id</th>\n",
       "      <th>popularity</th>\n",
       "      <th>budget</th>\n",
       "      <th>revenue</th>\n",
       "      <th>original_title</th>\n",
       "      <th>cast</th>\n",
       "      <th>homepage</th>\n",
       "      <th>director</th>\n",
       "      <th>tagline</th>\n",
       "      <th>...</th>\n",
       "      <th>overview</th>\n",
       "      <th>runtime</th>\n",
       "      <th>genres</th>\n",
       "      <th>production_companies</th>\n",
       "      <th>release_date</th>\n",
       "      <th>vote_count</th>\n",
       "      <th>vote_average</th>\n",
       "      <th>release_year</th>\n",
       "      <th>budget_adj</th>\n",
       "      <th>revenue_adj</th>\n",
       "    </tr>\n",
       "  </thead>\n",
       "  <tbody>\n",
       "    <tr>\n",
       "      <th>0</th>\n",
       "      <td>135397</td>\n",
       "      <td>tt0369610</td>\n",
       "      <td>32.985763</td>\n",
       "      <td>150000000</td>\n",
       "      <td>1513528810</td>\n",
       "      <td>Jurassic World</td>\n",
       "      <td>Chris Pratt|Bryce Dallas Howard|Irrfan Khan|Vi...</td>\n",
       "      <td>http://www.jurassicworld.com/</td>\n",
       "      <td>Colin Trevorrow</td>\n",
       "      <td>The park is open.</td>\n",
       "      <td>...</td>\n",
       "      <td>Twenty-two years after the events of Jurassic ...</td>\n",
       "      <td>124</td>\n",
       "      <td>Action|Adventure|Science Fiction|Thriller</td>\n",
       "      <td>Universal Studios|Amblin Entertainment|Legenda...</td>\n",
       "      <td>6/9/15</td>\n",
       "      <td>5562</td>\n",
       "      <td>6.5</td>\n",
       "      <td>2015</td>\n",
       "      <td>1.379999e+08</td>\n",
       "      <td>1.392446e+09</td>\n",
       "    </tr>\n",
       "    <tr>\n",
       "      <th>1</th>\n",
       "      <td>76341</td>\n",
       "      <td>tt1392190</td>\n",
       "      <td>28.419936</td>\n",
       "      <td>150000000</td>\n",
       "      <td>378436354</td>\n",
       "      <td>Mad Max: Fury Road</td>\n",
       "      <td>Tom Hardy|Charlize Theron|Hugh Keays-Byrne|Nic...</td>\n",
       "      <td>http://www.madmaxmovie.com/</td>\n",
       "      <td>George Miller</td>\n",
       "      <td>What a Lovely Day.</td>\n",
       "      <td>...</td>\n",
       "      <td>An apocalyptic story set in the furthest reach...</td>\n",
       "      <td>120</td>\n",
       "      <td>Action|Adventure|Science Fiction|Thriller</td>\n",
       "      <td>Village Roadshow Pictures|Kennedy Miller Produ...</td>\n",
       "      <td>5/13/15</td>\n",
       "      <td>6185</td>\n",
       "      <td>7.1</td>\n",
       "      <td>2015</td>\n",
       "      <td>1.379999e+08</td>\n",
       "      <td>3.481613e+08</td>\n",
       "    </tr>\n",
       "    <tr>\n",
       "      <th>2</th>\n",
       "      <td>262500</td>\n",
       "      <td>tt2908446</td>\n",
       "      <td>13.112507</td>\n",
       "      <td>110000000</td>\n",
       "      <td>295238201</td>\n",
       "      <td>Insurgent</td>\n",
       "      <td>Shailene Woodley|Theo James|Kate Winslet|Ansel...</td>\n",
       "      <td>http://www.thedivergentseries.movie/#insurgent</td>\n",
       "      <td>Robert Schwentke</td>\n",
       "      <td>One Choice Can Destroy You</td>\n",
       "      <td>...</td>\n",
       "      <td>Beatrice Prior must confront her inner demons ...</td>\n",
       "      <td>119</td>\n",
       "      <td>Adventure|Science Fiction|Thriller</td>\n",
       "      <td>Summit Entertainment|Mandeville Films|Red Wago...</td>\n",
       "      <td>3/18/15</td>\n",
       "      <td>2480</td>\n",
       "      <td>6.3</td>\n",
       "      <td>2015</td>\n",
       "      <td>1.012000e+08</td>\n",
       "      <td>2.716190e+08</td>\n",
       "    </tr>\n",
       "    <tr>\n",
       "      <th>3</th>\n",
       "      <td>140607</td>\n",
       "      <td>tt2488496</td>\n",
       "      <td>11.173104</td>\n",
       "      <td>200000000</td>\n",
       "      <td>2068178225</td>\n",
       "      <td>Star Wars: The Force Awakens</td>\n",
       "      <td>Harrison Ford|Mark Hamill|Carrie Fisher|Adam D...</td>\n",
       "      <td>http://www.starwars.com/films/star-wars-episod...</td>\n",
       "      <td>J.J. Abrams</td>\n",
       "      <td>Every generation has a story.</td>\n",
       "      <td>...</td>\n",
       "      <td>Thirty years after defeating the Galactic Empi...</td>\n",
       "      <td>136</td>\n",
       "      <td>Action|Adventure|Science Fiction|Fantasy</td>\n",
       "      <td>Lucasfilm|Truenorth Productions|Bad Robot</td>\n",
       "      <td>12/15/15</td>\n",
       "      <td>5292</td>\n",
       "      <td>7.5</td>\n",
       "      <td>2015</td>\n",
       "      <td>1.839999e+08</td>\n",
       "      <td>1.902723e+09</td>\n",
       "    </tr>\n",
       "    <tr>\n",
       "      <th>4</th>\n",
       "      <td>168259</td>\n",
       "      <td>tt2820852</td>\n",
       "      <td>9.335014</td>\n",
       "      <td>190000000</td>\n",
       "      <td>1506249360</td>\n",
       "      <td>Furious 7</td>\n",
       "      <td>Vin Diesel|Paul Walker|Jason Statham|Michelle ...</td>\n",
       "      <td>http://www.furious7.com/</td>\n",
       "      <td>James Wan</td>\n",
       "      <td>Vengeance Hits Home</td>\n",
       "      <td>...</td>\n",
       "      <td>Deckard Shaw seeks revenge against Dominic Tor...</td>\n",
       "      <td>137</td>\n",
       "      <td>Action|Crime|Thriller</td>\n",
       "      <td>Universal Pictures|Original Film|Media Rights ...</td>\n",
       "      <td>4/1/15</td>\n",
       "      <td>2947</td>\n",
       "      <td>7.3</td>\n",
       "      <td>2015</td>\n",
       "      <td>1.747999e+08</td>\n",
       "      <td>1.385749e+09</td>\n",
       "    </tr>\n",
       "  </tbody>\n",
       "</table>\n",
       "<p>5 rows × 21 columns</p>\n",
       "</div>"
      ],
      "text/plain": [
       "       id    imdb_id  popularity     budget     revenue  \\\n",
       "0  135397  tt0369610   32.985763  150000000  1513528810   \n",
       "1   76341  tt1392190   28.419936  150000000   378436354   \n",
       "2  262500  tt2908446   13.112507  110000000   295238201   \n",
       "3  140607  tt2488496   11.173104  200000000  2068178225   \n",
       "4  168259  tt2820852    9.335014  190000000  1506249360   \n",
       "\n",
       "                 original_title  \\\n",
       "0                Jurassic World   \n",
       "1            Mad Max: Fury Road   \n",
       "2                     Insurgent   \n",
       "3  Star Wars: The Force Awakens   \n",
       "4                     Furious 7   \n",
       "\n",
       "                                                cast  \\\n",
       "0  Chris Pratt|Bryce Dallas Howard|Irrfan Khan|Vi...   \n",
       "1  Tom Hardy|Charlize Theron|Hugh Keays-Byrne|Nic...   \n",
       "2  Shailene Woodley|Theo James|Kate Winslet|Ansel...   \n",
       "3  Harrison Ford|Mark Hamill|Carrie Fisher|Adam D...   \n",
       "4  Vin Diesel|Paul Walker|Jason Statham|Michelle ...   \n",
       "\n",
       "                                            homepage          director  \\\n",
       "0                      http://www.jurassicworld.com/   Colin Trevorrow   \n",
       "1                        http://www.madmaxmovie.com/     George Miller   \n",
       "2     http://www.thedivergentseries.movie/#insurgent  Robert Schwentke   \n",
       "3  http://www.starwars.com/films/star-wars-episod...       J.J. Abrams   \n",
       "4                           http://www.furious7.com/         James Wan   \n",
       "\n",
       "                         tagline      ...       \\\n",
       "0              The park is open.      ...        \n",
       "1             What a Lovely Day.      ...        \n",
       "2     One Choice Can Destroy You      ...        \n",
       "3  Every generation has a story.      ...        \n",
       "4            Vengeance Hits Home      ...        \n",
       "\n",
       "                                            overview runtime  \\\n",
       "0  Twenty-two years after the events of Jurassic ...     124   \n",
       "1  An apocalyptic story set in the furthest reach...     120   \n",
       "2  Beatrice Prior must confront her inner demons ...     119   \n",
       "3  Thirty years after defeating the Galactic Empi...     136   \n",
       "4  Deckard Shaw seeks revenge against Dominic Tor...     137   \n",
       "\n",
       "                                      genres  \\\n",
       "0  Action|Adventure|Science Fiction|Thriller   \n",
       "1  Action|Adventure|Science Fiction|Thriller   \n",
       "2         Adventure|Science Fiction|Thriller   \n",
       "3   Action|Adventure|Science Fiction|Fantasy   \n",
       "4                      Action|Crime|Thriller   \n",
       "\n",
       "                                production_companies release_date vote_count  \\\n",
       "0  Universal Studios|Amblin Entertainment|Legenda...       6/9/15       5562   \n",
       "1  Village Roadshow Pictures|Kennedy Miller Produ...      5/13/15       6185   \n",
       "2  Summit Entertainment|Mandeville Films|Red Wago...      3/18/15       2480   \n",
       "3          Lucasfilm|Truenorth Productions|Bad Robot     12/15/15       5292   \n",
       "4  Universal Pictures|Original Film|Media Rights ...       4/1/15       2947   \n",
       "\n",
       "   vote_average  release_year    budget_adj   revenue_adj  \n",
       "0           6.5          2015  1.379999e+08  1.392446e+09  \n",
       "1           7.1          2015  1.379999e+08  3.481613e+08  \n",
       "2           6.3          2015  1.012000e+08  2.716190e+08  \n",
       "3           7.5          2015  1.839999e+08  1.902723e+09  \n",
       "4           7.3          2015  1.747999e+08  1.385749e+09  \n",
       "\n",
       "[5 rows x 21 columns]"
      ]
     },
     "execution_count": 2,
     "metadata": {},
     "output_type": "execute_result"
    }
   ],
   "source": [
    "# Load your data and print out a few lines. Perform operations to inspect data\n",
    "#   types and look for instances of missing or possibly errant data.\n",
    "\n",
    "## read csv file:\n",
    "initial_df = pd.read_csv(tmdb_csv_file)\n",
    "                         \n",
    "## print first five rows in data:\n",
    "initial_df.head()"
   ]
  },
  {
   "cell_type": "markdown",
   "metadata": {},
   "source": [
    "Comments:\n",
    "* The data contains __imdb_id__ as well as __id__ from TMDb. This is may have been provided to correlate data from both databases.\n",
    "* The __budget__ and __revenue__ columns are not of much use as it will be more appropriate to use the adjusted values, __budget_adj__ and __revenue_adj__ to compare movies from different time periods.\n",
    "* No units for the budget and revenue are provided. I'll assume them to be dollars.\n",
    "\n",
    "Now I want to know some basic info about the data:"
   ]
  },
  {
   "cell_type": "code",
   "execution_count": 3,
   "metadata": {},
   "outputs": [
    {
     "name": "stdout",
     "output_type": "stream",
     "text": [
      "<class 'pandas.core.frame.DataFrame'>\n",
      "RangeIndex: 10866 entries, 0 to 10865\n",
      "Data columns (total 21 columns):\n",
      "id                      10866 non-null int64\n",
      "imdb_id                 10856 non-null object\n",
      "popularity              10866 non-null float64\n",
      "budget                  10866 non-null int64\n",
      "revenue                 10866 non-null int64\n",
      "original_title          10866 non-null object\n",
      "cast                    10790 non-null object\n",
      "homepage                2936 non-null object\n",
      "director                10822 non-null object\n",
      "tagline                 8042 non-null object\n",
      "keywords                9373 non-null object\n",
      "overview                10862 non-null object\n",
      "runtime                 10866 non-null int64\n",
      "genres                  10843 non-null object\n",
      "production_companies    9836 non-null object\n",
      "release_date            10866 non-null object\n",
      "vote_count              10866 non-null int64\n",
      "vote_average            10866 non-null float64\n",
      "release_year            10866 non-null int64\n",
      "budget_adj              10866 non-null float64\n",
      "revenue_adj             10866 non-null float64\n",
      "dtypes: float64(4), int64(6), object(11)\n",
      "memory usage: 1.7+ MB\n"
     ]
    }
   ],
   "source": [
    "## describe the table:\n",
    "initial_df.info()"
   ]
  },
  {
   "cell_type": "markdown",
   "metadata": {},
   "source": [
    "A lot of columns have many null values. I will handle them as and when needed."
   ]
  },
  {
   "cell_type": "code",
   "execution_count": 222,
   "metadata": {},
   "outputs": [
    {
     "data": {
      "text/plain": [
       "10866"
      ]
     },
     "execution_count": 222,
     "metadata": {},
     "output_type": "execute_result"
    }
   ],
   "source": [
    "## number of rows:\n",
    "len(initial_df)"
   ]
  },
  {
   "cell_type": "code",
   "execution_count": 5,
   "metadata": {},
   "outputs": [
    {
     "name": "stdout",
     "output_type": "stream",
     "text": [
      "1960 - 2015\n"
     ]
    }
   ],
   "source": [
    "## range of years from which movies are included:\n",
    "\n",
    "release_years = initial_df['release_year']\n",
    "print(int(release_years.min()),'-',int(release_years.max()))"
   ]
  },
  {
   "cell_type": "code",
   "execution_count": 6,
   "metadata": {},
   "outputs": [
    {
     "name": "stdout",
     "output_type": "stream",
     "text": [
      "Avatar(2009):\n",
      "\tBudget (Adjusted): 240886902.887613$\n",
      "\tRevenue (Adjusted): 2827123750.41189$\n",
      "\tDirector: James Cameron\n",
      "\tGenres: Action, Adventure, Fantasy, Science Fiction\n",
      "\tCast: Sam Worthington, Zoe Saldana, Sigourney Weaver, Stephen Lang, Michelle Rodriguez\n",
      "\tAverage Rating: 7.1\n",
      "\tPopularity: 9.432768\n"
     ]
    }
   ],
   "source": [
    "## Highest revenue movie:\n",
    "\n",
    "# It will be nice to have a function that prints info about a movie with a particular id:\n",
    "\n",
    "def describe_movie(tmdb_id, df):\n",
    "    '''\n",
    "        Displays info about a movie with a particular TMDb ID.\n",
    "    '''\n",
    "    # first let's get the row for this id:\n",
    "    movie_df_intermediate = df[df['id'] == tmdb_id]\n",
    "    # ^ this is still a dataframe... we need to convert this to a series:\n",
    "    movie_row = pd.Series(movie_df_intermediate.iloc[0])\n",
    "    \n",
    "    # now printing relevant info:\n",
    "    print('{}({}):'.format(movie_row['original_title'], movie_row[ 'release_year']))\n",
    "    print('\\tBudget (Adjusted): {}$'.format(movie_row['budget_adj']))\n",
    "    print('\\tRevenue (Adjusted): {}$'.format(movie_row['revenue_adj']))\n",
    "    print('\\tDirector: {}'.format(movie_row['director'])) \n",
    "    print('\\tGenres: {}'.format(', '.join(movie_row['genres'].split('|'))))\n",
    "    print('\\tCast: {}'.format(', '.join(movie_row['cast'].split('|'))))\n",
    "    print('\\tAverage Rating:', movie_row['vote_average'])\n",
    "    print('\\tPopularity:', movie_row['popularity'])\n",
    "    \n",
    "    \n",
    "max_revenue_idx = initial_df['revenue_adj'].idxmax()\n",
    "max_revenue_tmdb_id = initial_df.loc[max_revenue_idx, 'id']\n",
    "describe_movie(max_revenue_tmdb_id, initial_df)\n"
   ]
  },
  {
   "cell_type": "code",
   "execution_count": 7,
   "metadata": {},
   "outputs": [
    {
     "name": "stdout",
     "output_type": "stream",
     "text": [
      "The Warrior's Way(2010):\n",
      "\tBudget (Adjusted): 425000000.0$\n",
      "\tRevenue (Adjusted): 11087569.0$\n",
      "\tDirector: Sngmoo Lee\n",
      "\tGenres: Adventure, Fantasy, Action, Western, Thriller\n",
      "\tCast: Kate Bosworth, Jang Dong-gun, Geoffrey Rush, Danny Huston, Ti Lung\n",
      "\tAverage Rating: 6.4\n",
      "\tPopularity: 0.25054\n"
     ]
    }
   ],
   "source": [
    "## Highest budget movie:\n",
    "\n",
    "max_budget_idx = initial_df['budget_adj'].idxmax()\n",
    "max_budget_tmdb_id = initial_df.loc[max_budget_idx, 'id']\n",
    "describe_movie(max_budget_tmdb_id, initial_df)"
   ]
  },
  {
   "cell_type": "code",
   "execution_count": 8,
   "metadata": {},
   "outputs": [
    {
     "name": "stdout",
     "output_type": "stream",
     "text": [
      "The Story of Film: An Odyssey(2011):\n",
      "\tBudget (Adjusted): 0.0$\n",
      "\tRevenue (Adjusted): 0.0$\n",
      "\tDirector: Mark Cousins\n",
      "\tGenres: Documentary\n",
      "\tCast: Mark Cousins, Jean-Michel Frodon, Cari Beauchamp, Agnes de Mille\n",
      "\tAverage Rating: 9.2\n",
      "\tPopularity: 0.006925\n"
     ]
    }
   ],
   "source": [
    "## Highest rated movie:\n",
    "\n",
    "max_rating_idx = initial_df['vote_average'].idxmax()\n",
    "max_rating_tmdb_id = initial_df.loc[max_rating_idx, 'id']\n",
    "describe_movie(max_rating_tmdb_id, initial_df)"
   ]
  },
  {
   "cell_type": "markdown",
   "metadata": {},
   "source": [
    "The budget and revenue data for this movie seems to be unavailable."
   ]
  },
  {
   "cell_type": "code",
   "execution_count": 9,
   "metadata": {},
   "outputs": [
    {
     "name": "stdout",
     "output_type": "stream",
     "text": [
      "Jurassic World(2015):\n",
      "\tBudget (Adjusted): 137999939.280026$\n",
      "\tRevenue (Adjusted): 1392445892.5238$\n",
      "\tDirector: Colin Trevorrow\n",
      "\tGenres: Action, Adventure, Science Fiction, Thriller\n",
      "\tCast: Chris Pratt, Bryce Dallas Howard, Irrfan Khan, Vincent D'Onofrio, Nick Robinson\n",
      "\tAverage Rating: 6.5\n",
      "\tPopularity: 32.985763\n"
     ]
    }
   ],
   "source": [
    "## Most popular movie:\n",
    "\n",
    "max_popularity_idx = initial_df['popularity'].idxmax()\n",
    "max_popularity_tmdb_id = initial_df.loc[max_popularity_idx, 'id']\n",
    "describe_movie(max_popularity_tmdb_id, initial_df)"
   ]
  },
  {
   "cell_type": "markdown",
   "metadata": {},
   "source": [
    "### Problems With Dataset\n",
    "While inspecting the data, I noticed the following problems which need to be addressed:\n",
    "* The __budget_adj__ and __revenue_adj__ columns have 0 value in many rows.\n",
    "* The __budget__ and __revenue__ columns are unadjusted and thus not useful for the analysis. Also, the __imdb_id__ column is redundant as I will use the TMDb IDs. These columns should be removed.\n",
    "* The __release_date__ column is stored as a string. The dates need to be converted to datetime objects.\n",
    "* The columns __production_companies__, __cast__ and __genres__ should be converted to list/tuples for convenience."
   ]
  },
  {
   "cell_type": "markdown",
   "metadata": {},
   "source": [
    "Let's check for duplicate rows in the data:"
   ]
  },
  {
   "cell_type": "code",
   "execution_count": 10,
   "metadata": {},
   "outputs": [
    {
     "data": {
      "text/html": [
       "<div>\n",
       "<style scoped>\n",
       "    .dataframe tbody tr th:only-of-type {\n",
       "        vertical-align: middle;\n",
       "    }\n",
       "\n",
       "    .dataframe tbody tr th {\n",
       "        vertical-align: top;\n",
       "    }\n",
       "\n",
       "    .dataframe thead th {\n",
       "        text-align: right;\n",
       "    }\n",
       "</style>\n",
       "<table border=\"1\" class=\"dataframe\">\n",
       "  <thead>\n",
       "    <tr style=\"text-align: right;\">\n",
       "      <th></th>\n",
       "      <th>id</th>\n",
       "      <th>imdb_id</th>\n",
       "      <th>popularity</th>\n",
       "      <th>budget</th>\n",
       "      <th>revenue</th>\n",
       "      <th>original_title</th>\n",
       "      <th>cast</th>\n",
       "      <th>homepage</th>\n",
       "      <th>director</th>\n",
       "      <th>tagline</th>\n",
       "      <th>...</th>\n",
       "      <th>overview</th>\n",
       "      <th>runtime</th>\n",
       "      <th>genres</th>\n",
       "      <th>production_companies</th>\n",
       "      <th>release_date</th>\n",
       "      <th>vote_count</th>\n",
       "      <th>vote_average</th>\n",
       "      <th>release_year</th>\n",
       "      <th>budget_adj</th>\n",
       "      <th>revenue_adj</th>\n",
       "    </tr>\n",
       "  </thead>\n",
       "  <tbody>\n",
       "    <tr>\n",
       "      <th>2090</th>\n",
       "      <td>42194</td>\n",
       "      <td>tt0411951</td>\n",
       "      <td>0.59643</td>\n",
       "      <td>30000000</td>\n",
       "      <td>967000</td>\n",
       "      <td>TEKKEN</td>\n",
       "      <td>Jon Foo|Kelly Overton|Cary-Hiroyuki Tagawa|Ian...</td>\n",
       "      <td>NaN</td>\n",
       "      <td>Dwight H. Little</td>\n",
       "      <td>Survival is no game</td>\n",
       "      <td>...</td>\n",
       "      <td>In the year of 2039, after World Wars destroy ...</td>\n",
       "      <td>92</td>\n",
       "      <td>Crime|Drama|Action|Thriller|Science Fiction</td>\n",
       "      <td>Namco|Light Song Films</td>\n",
       "      <td>3/20/10</td>\n",
       "      <td>110</td>\n",
       "      <td>5.0</td>\n",
       "      <td>2010</td>\n",
       "      <td>30000000.0</td>\n",
       "      <td>967000.0</td>\n",
       "    </tr>\n",
       "  </tbody>\n",
       "</table>\n",
       "<p>1 rows × 21 columns</p>\n",
       "</div>"
      ],
      "text/plain": [
       "         id    imdb_id  popularity    budget  revenue original_title  \\\n",
       "2090  42194  tt0411951     0.59643  30000000   967000         TEKKEN   \n",
       "\n",
       "                                                   cast homepage  \\\n",
       "2090  Jon Foo|Kelly Overton|Cary-Hiroyuki Tagawa|Ian...      NaN   \n",
       "\n",
       "              director              tagline     ...       \\\n",
       "2090  Dwight H. Little  Survival is no game     ...        \n",
       "\n",
       "                                               overview runtime  \\\n",
       "2090  In the year of 2039, after World Wars destroy ...      92   \n",
       "\n",
       "                                           genres    production_companies  \\\n",
       "2090  Crime|Drama|Action|Thriller|Science Fiction  Namco|Light Song Films   \n",
       "\n",
       "     release_date vote_count  vote_average  release_year  budget_adj  \\\n",
       "2090      3/20/10        110           5.0          2010  30000000.0   \n",
       "\n",
       "      revenue_adj  \n",
       "2090     967000.0  \n",
       "\n",
       "[1 rows x 21 columns]"
      ]
     },
     "execution_count": 10,
     "metadata": {},
     "output_type": "execute_result"
    }
   ],
   "source": [
    "# select rows which have been duplicated:\n",
    "initial_df[initial_df.duplicated() == True]"
   ]
  },
  {
   "cell_type": "markdown",
   "metadata": {},
   "source": [
    "Only one row has been duplicated. I will clean this up in the next section."
   ]
  },
  {
   "cell_type": "markdown",
   "metadata": {},
   "source": [
    "### Data Cleaning"
   ]
  },
  {
   "cell_type": "markdown",
   "metadata": {},
   "source": [
    "#### Removing useless columns\n",
    "First I'll remove the following columns as I do not need them in my analysis:\n",
    "* budget\n",
    "* revenue\n",
    "* imdb_id\n",
    "* homepage\n",
    "* overview\n",
    "* tagline\n",
    "* vote count\n",
    "* keywords"
   ]
  },
  {
   "cell_type": "code",
   "execution_count": 11,
   "metadata": {},
   "outputs": [
    {
     "data": {
      "text/html": [
       "<div>\n",
       "<style scoped>\n",
       "    .dataframe tbody tr th:only-of-type {\n",
       "        vertical-align: middle;\n",
       "    }\n",
       "\n",
       "    .dataframe tbody tr th {\n",
       "        vertical-align: top;\n",
       "    }\n",
       "\n",
       "    .dataframe thead th {\n",
       "        text-align: right;\n",
       "    }\n",
       "</style>\n",
       "<table border=\"1\" class=\"dataframe\">\n",
       "  <thead>\n",
       "    <tr style=\"text-align: right;\">\n",
       "      <th></th>\n",
       "      <th>id</th>\n",
       "      <th>popularity</th>\n",
       "      <th>original_title</th>\n",
       "      <th>cast</th>\n",
       "      <th>director</th>\n",
       "      <th>runtime</th>\n",
       "      <th>genres</th>\n",
       "      <th>production_companies</th>\n",
       "      <th>release_date</th>\n",
       "      <th>vote_average</th>\n",
       "      <th>release_year</th>\n",
       "      <th>budget_adj</th>\n",
       "      <th>revenue_adj</th>\n",
       "    </tr>\n",
       "  </thead>\n",
       "  <tbody>\n",
       "    <tr>\n",
       "      <th>0</th>\n",
       "      <td>135397</td>\n",
       "      <td>32.985763</td>\n",
       "      <td>Jurassic World</td>\n",
       "      <td>Chris Pratt|Bryce Dallas Howard|Irrfan Khan|Vi...</td>\n",
       "      <td>Colin Trevorrow</td>\n",
       "      <td>124</td>\n",
       "      <td>Action|Adventure|Science Fiction|Thriller</td>\n",
       "      <td>Universal Studios|Amblin Entertainment|Legenda...</td>\n",
       "      <td>6/9/15</td>\n",
       "      <td>6.5</td>\n",
       "      <td>2015</td>\n",
       "      <td>1.379999e+08</td>\n",
       "      <td>1.392446e+09</td>\n",
       "    </tr>\n",
       "    <tr>\n",
       "      <th>1</th>\n",
       "      <td>76341</td>\n",
       "      <td>28.419936</td>\n",
       "      <td>Mad Max: Fury Road</td>\n",
       "      <td>Tom Hardy|Charlize Theron|Hugh Keays-Byrne|Nic...</td>\n",
       "      <td>George Miller</td>\n",
       "      <td>120</td>\n",
       "      <td>Action|Adventure|Science Fiction|Thriller</td>\n",
       "      <td>Village Roadshow Pictures|Kennedy Miller Produ...</td>\n",
       "      <td>5/13/15</td>\n",
       "      <td>7.1</td>\n",
       "      <td>2015</td>\n",
       "      <td>1.379999e+08</td>\n",
       "      <td>3.481613e+08</td>\n",
       "    </tr>\n",
       "  </tbody>\n",
       "</table>\n",
       "</div>"
      ],
      "text/plain": [
       "       id  popularity      original_title  \\\n",
       "0  135397   32.985763      Jurassic World   \n",
       "1   76341   28.419936  Mad Max: Fury Road   \n",
       "\n",
       "                                                cast         director  \\\n",
       "0  Chris Pratt|Bryce Dallas Howard|Irrfan Khan|Vi...  Colin Trevorrow   \n",
       "1  Tom Hardy|Charlize Theron|Hugh Keays-Byrne|Nic...    George Miller   \n",
       "\n",
       "   runtime                                     genres  \\\n",
       "0      124  Action|Adventure|Science Fiction|Thriller   \n",
       "1      120  Action|Adventure|Science Fiction|Thriller   \n",
       "\n",
       "                                production_companies release_date  \\\n",
       "0  Universal Studios|Amblin Entertainment|Legenda...       6/9/15   \n",
       "1  Village Roadshow Pictures|Kennedy Miller Produ...      5/13/15   \n",
       "\n",
       "   vote_average  release_year    budget_adj   revenue_adj  \n",
       "0           6.5          2015  1.379999e+08  1.392446e+09  \n",
       "1           7.1          2015  1.379999e+08  3.481613e+08  "
      ]
     },
     "execution_count": 11,
     "metadata": {},
     "output_type": "execute_result"
    }
   ],
   "source": [
    "# using drop() function to drop useless columns:\n",
    "\n",
    "useless_columns = ['budget', 'revenue', 'imdb_id', 'homepage', 'overview', 'tagline', 'vote_count', 'keywords']\n",
    "cleaned_df = initial_df.drop(useless_columns, axis=1) # axis = 1 means columns (0 for rows)\n",
    "\n",
    "cleaned_df.head(2)"
   ]
  },
  {
   "cell_type": "markdown",
   "metadata": {},
   "source": [
    "#### Removing the duplicate rows"
   ]
  },
  {
   "cell_type": "code",
   "execution_count": 12,
   "metadata": {},
   "outputs": [],
   "source": [
    "# drop_duplicates() drops all duplicate rows\n",
    "cleaned_df.drop_duplicates(inplace=True)"
   ]
  },
  {
   "cell_type": "markdown",
   "metadata": {},
   "source": [
    "#### Handling null values\n",
    "Let's replace 0s in budget and revenue columns with NaNs:"
   ]
  },
  {
   "cell_type": "code",
   "execution_count": 13,
   "metadata": {},
   "outputs": [
    {
     "name": "stdout",
     "output_type": "stream",
     "text": [
      "<class 'pandas.core.frame.DataFrame'>\n",
      "Int64Index: 10865 entries, 0 to 10865\n",
      "Data columns (total 13 columns):\n",
      "id                      10865 non-null int64\n",
      "popularity              10865 non-null float64\n",
      "original_title          10865 non-null object\n",
      "cast                    10789 non-null object\n",
      "director                10821 non-null object\n",
      "runtime                 10865 non-null int64\n",
      "genres                  10842 non-null object\n",
      "production_companies    9835 non-null object\n",
      "release_date            10865 non-null object\n",
      "vote_average            10865 non-null float64\n",
      "release_year            10865 non-null int64\n",
      "budget_adj              5155 non-null float64\n",
      "revenue_adj             4841 non-null float64\n",
      "dtypes: float64(4), int64(3), object(6)\n",
      "memory usage: 1.2+ MB\n"
     ]
    }
   ],
   "source": [
    "# replacing values 0s with NaNs:\n",
    "cleaned_df.loc[cleaned_df['revenue_adj'] == 0, 'revenue_adj'] = np.nan\n",
    "cleaned_df.loc[cleaned_df['budget_adj'] == 0, 'budget_adj'] = np.nan\n",
    "\n",
    "cleaned_df.info()"
   ]
  },
  {
   "cell_type": "markdown",
   "metadata": {},
   "source": [
    "The non-null counts for __budget_adj__ and __revenue_adj__ have been reduced by almost half!"
   ]
  },
  {
   "cell_type": "markdown",
   "metadata": {},
   "source": [
    "#### Correcting Data Types"
   ]
  },
  {
   "cell_type": "markdown",
   "metadata": {},
   "source": [
    "First, let's convert __release_year__ column to datetime objects:"
   ]
  },
  {
   "cell_type": "code",
   "execution_count": 14,
   "metadata": {},
   "outputs": [
    {
     "data": {
      "text/plain": [
       "2015"
      ]
     },
     "execution_count": 14,
     "metadata": {},
     "output_type": "execute_result"
    }
   ],
   "source": [
    "# I will use the to_datetime function provied in pandas:\n",
    "cleaned_df['release_date'] = pd.to_datetime(cleaned_df['release_date'])\n",
    "\n",
    "# checking:\n",
    "cleaned_df.loc[100, 'release_date'].year"
   ]
  },
  {
   "cell_type": "markdown",
   "metadata": {},
   "source": [
    "Now converting __production_companies__, __cast__ and __genres__ to lists:"
   ]
  },
  {
   "cell_type": "code",
   "execution_count": 15,
   "metadata": {},
   "outputs": [
    {
     "data": {
      "text/html": [
       "<div>\n",
       "<style scoped>\n",
       "    .dataframe tbody tr th:only-of-type {\n",
       "        vertical-align: middle;\n",
       "    }\n",
       "\n",
       "    .dataframe tbody tr th {\n",
       "        vertical-align: top;\n",
       "    }\n",
       "\n",
       "    .dataframe thead th {\n",
       "        text-align: right;\n",
       "    }\n",
       "</style>\n",
       "<table border=\"1\" class=\"dataframe\">\n",
       "  <thead>\n",
       "    <tr style=\"text-align: right;\">\n",
       "      <th></th>\n",
       "      <th>id</th>\n",
       "      <th>popularity</th>\n",
       "      <th>original_title</th>\n",
       "      <th>cast</th>\n",
       "      <th>director</th>\n",
       "      <th>runtime</th>\n",
       "      <th>genres</th>\n",
       "      <th>production_companies</th>\n",
       "      <th>release_date</th>\n",
       "      <th>vote_average</th>\n",
       "      <th>release_year</th>\n",
       "      <th>budget_adj</th>\n",
       "      <th>revenue_adj</th>\n",
       "    </tr>\n",
       "  </thead>\n",
       "  <tbody>\n",
       "    <tr>\n",
       "      <th>0</th>\n",
       "      <td>135397</td>\n",
       "      <td>32.985763</td>\n",
       "      <td>Jurassic World</td>\n",
       "      <td>[Chris Pratt, Bryce Dallas Howard, Irrfan Khan...</td>\n",
       "      <td>Colin Trevorrow</td>\n",
       "      <td>124</td>\n",
       "      <td>[Action, Adventure, Science Fiction, Thriller]</td>\n",
       "      <td>[Universal Studios, Amblin Entertainment, Lege...</td>\n",
       "      <td>2015-06-09</td>\n",
       "      <td>6.5</td>\n",
       "      <td>2015</td>\n",
       "      <td>1.379999e+08</td>\n",
       "      <td>1.392446e+09</td>\n",
       "    </tr>\n",
       "    <tr>\n",
       "      <th>1</th>\n",
       "      <td>76341</td>\n",
       "      <td>28.419936</td>\n",
       "      <td>Mad Max: Fury Road</td>\n",
       "      <td>[Tom Hardy, Charlize Theron, Hugh Keays-Byrne,...</td>\n",
       "      <td>George Miller</td>\n",
       "      <td>120</td>\n",
       "      <td>[Action, Adventure, Science Fiction, Thriller]</td>\n",
       "      <td>[Village Roadshow Pictures, Kennedy Miller Pro...</td>\n",
       "      <td>2015-05-13</td>\n",
       "      <td>7.1</td>\n",
       "      <td>2015</td>\n",
       "      <td>1.379999e+08</td>\n",
       "      <td>3.481613e+08</td>\n",
       "    </tr>\n",
       "  </tbody>\n",
       "</table>\n",
       "</div>"
      ],
      "text/plain": [
       "       id  popularity      original_title  \\\n",
       "0  135397   32.985763      Jurassic World   \n",
       "1   76341   28.419936  Mad Max: Fury Road   \n",
       "\n",
       "                                                cast         director  \\\n",
       "0  [Chris Pratt, Bryce Dallas Howard, Irrfan Khan...  Colin Trevorrow   \n",
       "1  [Tom Hardy, Charlize Theron, Hugh Keays-Byrne,...    George Miller   \n",
       "\n",
       "   runtime                                          genres  \\\n",
       "0      124  [Action, Adventure, Science Fiction, Thriller]   \n",
       "1      120  [Action, Adventure, Science Fiction, Thriller]   \n",
       "\n",
       "                                production_companies release_date  \\\n",
       "0  [Universal Studios, Amblin Entertainment, Lege...   2015-06-09   \n",
       "1  [Village Roadshow Pictures, Kennedy Miller Pro...   2015-05-13   \n",
       "\n",
       "   vote_average  release_year    budget_adj   revenue_adj  \n",
       "0           6.5          2015  1.379999e+08  1.392446e+09  \n",
       "1           7.1          2015  1.379999e+08  3.481613e+08  "
      ]
     },
     "execution_count": 15,
     "metadata": {},
     "output_type": "execute_result"
    }
   ],
   "source": [
    "def string_to_list(string):\n",
    "    '''\n",
    "        Returns a list of strings obtained by splitting the input string.\n",
    "        If input is not a string, returns NaN.\n",
    "    '''\n",
    "    if isinstance(string, str):\n",
    "        return string.split('|')\n",
    "    return np.nan\n",
    "\n",
    "cleaned_df['genres'] = cleaned_df['genres'].apply(string_to_list)\n",
    "cleaned_df['production_companies'] = cleaned_df['production_companies'].apply(string_to_list)\n",
    "cleaned_df['cast'] = cleaned_df['cast'].apply(string_to_list)\n",
    "\n",
    "# checking:\n",
    "cleaned_df.head(2)"
   ]
  },
  {
   "cell_type": "markdown",
   "metadata": {},
   "source": [
    "#### More considerations"
   ]
  },
  {
   "cell_type": "markdown",
   "metadata": {},
   "source": [
    "For both of my questions, I need both the revenue and budget data available. Many rows are missing one or both of these values. I will drop rows that are missing budget or revenue information."
   ]
  },
  {
   "cell_type": "code",
   "execution_count": 223,
   "metadata": {},
   "outputs": [
    {
     "name": "stdout",
     "output_type": "stream",
     "text": [
      "Movies with both revenue and budget info: 3840\n"
     ]
    },
    {
     "data": {
      "text/html": [
       "<div>\n",
       "<style scoped>\n",
       "    .dataframe tbody tr th:only-of-type {\n",
       "        vertical-align: middle;\n",
       "    }\n",
       "\n",
       "    .dataframe tbody tr th {\n",
       "        vertical-align: top;\n",
       "    }\n",
       "\n",
       "    .dataframe thead th {\n",
       "        text-align: right;\n",
       "    }\n",
       "</style>\n",
       "<table border=\"1\" class=\"dataframe\">\n",
       "  <thead>\n",
       "    <tr style=\"text-align: right;\">\n",
       "      <th></th>\n",
       "      <th>id</th>\n",
       "      <th>popularity</th>\n",
       "      <th>original_title</th>\n",
       "      <th>cast</th>\n",
       "      <th>director</th>\n",
       "      <th>runtime</th>\n",
       "      <th>genres</th>\n",
       "      <th>production_companies</th>\n",
       "      <th>release_date</th>\n",
       "      <th>vote_average</th>\n",
       "      <th>release_year</th>\n",
       "      <th>budget_adj</th>\n",
       "      <th>revenue_adj</th>\n",
       "    </tr>\n",
       "  </thead>\n",
       "  <tbody>\n",
       "    <tr>\n",
       "      <th>0</th>\n",
       "      <td>135397</td>\n",
       "      <td>32.985763</td>\n",
       "      <td>Jurassic World</td>\n",
       "      <td>[Chris Pratt, Bryce Dallas Howard, Irrfan Khan...</td>\n",
       "      <td>Colin Trevorrow</td>\n",
       "      <td>124</td>\n",
       "      <td>[Action, Adventure, Science Fiction, Thriller]</td>\n",
       "      <td>[Universal Studios, Amblin Entertainment, Lege...</td>\n",
       "      <td>2015-06-09</td>\n",
       "      <td>6.5</td>\n",
       "      <td>2015</td>\n",
       "      <td>1.379999e+08</td>\n",
       "      <td>1.392446e+09</td>\n",
       "    </tr>\n",
       "    <tr>\n",
       "      <th>1</th>\n",
       "      <td>76341</td>\n",
       "      <td>28.419936</td>\n",
       "      <td>Mad Max: Fury Road</td>\n",
       "      <td>[Tom Hardy, Charlize Theron, Hugh Keays-Byrne,...</td>\n",
       "      <td>George Miller</td>\n",
       "      <td>120</td>\n",
       "      <td>[Action, Adventure, Science Fiction, Thriller]</td>\n",
       "      <td>[Village Roadshow Pictures, Kennedy Miller Pro...</td>\n",
       "      <td>2015-05-13</td>\n",
       "      <td>7.1</td>\n",
       "      <td>2015</td>\n",
       "      <td>1.379999e+08</td>\n",
       "      <td>3.481613e+08</td>\n",
       "    </tr>\n",
       "    <tr>\n",
       "      <th>2</th>\n",
       "      <td>262500</td>\n",
       "      <td>13.112507</td>\n",
       "      <td>Insurgent</td>\n",
       "      <td>[Shailene Woodley, Theo James, Kate Winslet, A...</td>\n",
       "      <td>Robert Schwentke</td>\n",
       "      <td>119</td>\n",
       "      <td>[Adventure, Science Fiction, Thriller]</td>\n",
       "      <td>[Summit Entertainment, Mandeville Films, Red W...</td>\n",
       "      <td>2015-03-18</td>\n",
       "      <td>6.3</td>\n",
       "      <td>2015</td>\n",
       "      <td>1.012000e+08</td>\n",
       "      <td>2.716190e+08</td>\n",
       "    </tr>\n",
       "    <tr>\n",
       "      <th>3</th>\n",
       "      <td>140607</td>\n",
       "      <td>11.173104</td>\n",
       "      <td>Star Wars: The Force Awakens</td>\n",
       "      <td>[Harrison Ford, Mark Hamill, Carrie Fisher, Ad...</td>\n",
       "      <td>J.J. Abrams</td>\n",
       "      <td>136</td>\n",
       "      <td>[Action, Adventure, Science Fiction, Fantasy]</td>\n",
       "      <td>[Lucasfilm, Truenorth Productions, Bad Robot]</td>\n",
       "      <td>2015-12-15</td>\n",
       "      <td>7.5</td>\n",
       "      <td>2015</td>\n",
       "      <td>1.839999e+08</td>\n",
       "      <td>1.902723e+09</td>\n",
       "    </tr>\n",
       "    <tr>\n",
       "      <th>4</th>\n",
       "      <td>168259</td>\n",
       "      <td>9.335014</td>\n",
       "      <td>Furious 7</td>\n",
       "      <td>[Vin Diesel, Paul Walker, Jason Statham, Miche...</td>\n",
       "      <td>James Wan</td>\n",
       "      <td>137</td>\n",
       "      <td>[Action, Crime, Thriller]</td>\n",
       "      <td>[Universal Pictures, Original Film, Media Righ...</td>\n",
       "      <td>2015-04-01</td>\n",
       "      <td>7.3</td>\n",
       "      <td>2015</td>\n",
       "      <td>1.747999e+08</td>\n",
       "      <td>1.385749e+09</td>\n",
       "    </tr>\n",
       "  </tbody>\n",
       "</table>\n",
       "</div>"
      ],
      "text/plain": [
       "       id  popularity                original_title  \\\n",
       "0  135397   32.985763                Jurassic World   \n",
       "1   76341   28.419936            Mad Max: Fury Road   \n",
       "2  262500   13.112507                     Insurgent   \n",
       "3  140607   11.173104  Star Wars: The Force Awakens   \n",
       "4  168259    9.335014                     Furious 7   \n",
       "\n",
       "                                                cast          director  \\\n",
       "0  [Chris Pratt, Bryce Dallas Howard, Irrfan Khan...   Colin Trevorrow   \n",
       "1  [Tom Hardy, Charlize Theron, Hugh Keays-Byrne,...     George Miller   \n",
       "2  [Shailene Woodley, Theo James, Kate Winslet, A...  Robert Schwentke   \n",
       "3  [Harrison Ford, Mark Hamill, Carrie Fisher, Ad...       J.J. Abrams   \n",
       "4  [Vin Diesel, Paul Walker, Jason Statham, Miche...         James Wan   \n",
       "\n",
       "   runtime                                          genres  \\\n",
       "0      124  [Action, Adventure, Science Fiction, Thriller]   \n",
       "1      120  [Action, Adventure, Science Fiction, Thriller]   \n",
       "2      119          [Adventure, Science Fiction, Thriller]   \n",
       "3      136   [Action, Adventure, Science Fiction, Fantasy]   \n",
       "4      137                       [Action, Crime, Thriller]   \n",
       "\n",
       "                                production_companies release_date  \\\n",
       "0  [Universal Studios, Amblin Entertainment, Lege...   2015-06-09   \n",
       "1  [Village Roadshow Pictures, Kennedy Miller Pro...   2015-05-13   \n",
       "2  [Summit Entertainment, Mandeville Films, Red W...   2015-03-18   \n",
       "3      [Lucasfilm, Truenorth Productions, Bad Robot]   2015-12-15   \n",
       "4  [Universal Pictures, Original Film, Media Righ...   2015-04-01   \n",
       "\n",
       "   vote_average  release_year    budget_adj   revenue_adj  \n",
       "0           6.5          2015  1.379999e+08  1.392446e+09  \n",
       "1           7.1          2015  1.379999e+08  3.481613e+08  \n",
       "2           6.3          2015  1.012000e+08  2.716190e+08  \n",
       "3           7.5          2015  1.839999e+08  1.902723e+09  \n",
       "4           7.3          2015  1.747999e+08  1.385749e+09  "
      ]
     },
     "execution_count": 223,
     "metadata": {},
     "output_type": "execute_result"
    }
   ],
   "source": [
    "# create dataset for second question about high-revenue movies\n",
    "# drop rows without budget or revenue information:\n",
    "\n",
    "revenue_df = cleaned_df.dropna(subset=['revenue_adj', 'budget_adj'], how='any')\n",
    "print('Movies with both revenue and budget info:', len(revenue_df))\n",
    "revenue_df.head()"
   ]
  },
  {
   "cell_type": "markdown",
   "metadata": {},
   "source": [
    "The size of the dataset has been decreased quite a bit. But it should still be sufficient for my analysis. The dropped rows might have been useful for some other questions, but my research questions require them to be dropped."
   ]
  },
  {
   "cell_type": "markdown",
   "metadata": {},
   "source": [
    "<a id='eda'></a>\n",
    "## Exploratory Data Analysis"
   ]
  },
  {
   "cell_type": "markdown",
   "metadata": {},
   "source": [
    "### Trends In Budgets And Revenues"
   ]
  },
  {
   "cell_type": "markdown",
   "metadata": {},
   "source": [
    "#### Statistics"
   ]
  },
  {
   "cell_type": "code",
   "execution_count": 226,
   "metadata": {},
   "outputs": [
    {
     "data": {
      "text/plain": [
       "count    3.840000e+03\n",
       "mean     4.437950e+07\n",
       "std      4.482660e+07\n",
       "min      1.144773e+01\n",
       "25%      1.321321e+07\n",
       "50%      3.018940e+07\n",
       "75%      6.076720e+07\n",
       "max      4.250000e+08\n",
       "Name: budget_adj, dtype: float64"
      ]
     },
     "execution_count": 226,
     "metadata": {},
     "output_type": "execute_result"
    }
   ],
   "source": [
    "## budget statistics (adjusted):\n",
    "\n",
    "budgets_adj = revenue_df['budget_adj']\n",
    "budgets_adj.describe()"
   ]
  },
  {
   "cell_type": "code",
   "execution_count": 227,
   "metadata": {},
   "outputs": [
    {
     "data": {
      "text/plain": [
       "count    3.840000e+03\n",
       "mean     1.375644e+08\n",
       "std      2.163462e+08\n",
       "min      1.385334e+01\n",
       "25%      1.859524e+07\n",
       "50%      6.193404e+07\n",
       "75%      1.645421e+08\n",
       "max      2.827124e+09\n",
       "Name: revenue_adj, dtype: float64"
      ]
     },
     "execution_count": 227,
     "metadata": {},
     "output_type": "execute_result"
    }
   ],
   "source": [
    "## revenue statistics (adjusted):\n",
    "\n",
    "revenues_adj = revenue_df['revenue_adj']\n",
    "revenues_adj.describe()"
   ]
  },
  {
   "cell_type": "markdown",
   "metadata": {},
   "source": [
    "#### Plots"
   ]
  },
  {
   "cell_type": "code",
   "execution_count": 224,
   "metadata": {},
   "outputs": [
    {
     "data": {
      "image/png": "[encoded data removed]",
      "text/plain": [
       "<Figure size 1152x576 with 1 Axes>"
      ]
     },
     "metadata": {},
     "output_type": "display_data"
    }
   ],
   "source": [
    "## year-wise trends in mean budgets and reveneus:\n",
    "\n",
    "# extract mean data:\n",
    "budgets_grouped_by_year = revenue_df.groupby('release_year', as_index=False)['budget_adj']\n",
    "revenues_grouped_by_year = revenue_df.groupby('release_year', as_index=False)['revenue_adj']\n",
    "\n",
    "yearly_budget_means = budgets_grouped_by_year.mean()\n",
    "yearly_revenue_means = revenues_grouped_by_year.mean()\n",
    "\n",
    "# now plotting:\n",
    "fig = plt.figure(figsize = (16, 8))\n",
    "ax = plt.axes()\n",
    "ax.plot(yearly_budget_means['release_year'], yearly_budget_means['budget_adj'])\n",
    "ax.plot(yearly_revenue_means['release_year'], yearly_revenue_means['revenue_adj'])\n",
    "plt.xlabel('Year')\n",
    "plt.ylabel('Mean Budget/Revenue')\n",
    "plt.title('Mean Budget and Revenue Trends From 1960 to 2015')\n",
    "plt.legend()\n",
    "plt.show()"
   ]
  },
  {
   "cell_type": "markdown",
   "metadata": {},
   "source": [
    "It's interesting to note that the budgets and revenues haven't increased or decreased significantly over the years. Also, variation in the means has steadily gone down. This might be due to higher number of movies produced nowadays."
   ]
  },
  {
   "cell_type": "code",
   "execution_count": 225,
   "metadata": {},
   "outputs": [
    {
     "data": {
      "image/png": "[encoded data removed]",
      "text/plain": [
       "<Figure size 1152x576 with 1 Axes>"
      ]
     },
     "metadata": {},
     "output_type": "display_data"
    }
   ],
   "source": [
    "## year-wise trends in total budgets and reveneus for all movies:\n",
    "\n",
    "# extract sums:\n",
    "yearly_budget_sums = budgets_grouped_by_year.sum()\n",
    "yearly_revenue_sums = revenues_grouped_by_year.sum()\n",
    "\n",
    "# now plotting:\n",
    "fig = plt.figure(figsize = (16, 8))\n",
    "ax = plt.axes()\n",
    "ax.plot(yearly_budget_sums['release_year'], yearly_budget_sums['budget_adj'])\n",
    "ax.plot(yearly_revenue_sums['release_year'], yearly_revenue_sums['revenue_adj'])\n",
    "plt.xlabel('Year')\n",
    "plt.ylabel('Total Budget/Revenue')\n",
    "plt.title('Total Budget and Revenue Trends From 1960 to 2015')\n",
    "plt.legend()\n",
    "plt.show()"
   ]
  },
  {
   "cell_type": "markdown",
   "metadata": {},
   "source": [
    "Quite as expected, both the total budget and revenue gained have been increasing steadily over the years. The film industry has grown a lot since the 1960's."
   ]
  },
  {
   "cell_type": "markdown",
   "metadata": {},
   "source": [
    "### Characteristics Of Movies With Highest Revenues"
   ]
  },
  {
   "cell_type": "markdown",
   "metadata": {},
   "source": [
    "Let's look at the different variables that may affect the revenue collected by a movie. \n",
    "\n",
    "#### Budget\n",
    "\n",
    "First, let's create a scatter-plot to visualize the relationship between budget and movie revenue."
   ]
  },
  {
   "cell_type": "code",
   "execution_count": 199,
   "metadata": {},
   "outputs": [
    {
     "data": {
      "image/png": "[encoded data removed]",
      "text/plain": [
       "<Figure size 1152x576 with 1 Axes>"
      ]
     },
     "metadata": {},
     "output_type": "display_data"
    }
   ],
   "source": [
    "# using matplotlib's scatter() function:\n",
    "\n",
    "fig = plt.figure(figsize = (16, 8))\n",
    "ax = plt.axes()\n",
    "ax.scatter(revenue_df['budget_adj'], revenue_df['revenue_adj'])\n",
    "plt.xlabel('Budget (Adjusted)')\n",
    "plt.ylabel('Revenue (Adjusted)')\n",
    "plt.title('Scatter-plot Between Budget And Revenue')\n",
    "plt.show()"
   ]
  },
  {
   "cell_type": "markdown",
   "metadata": {},
   "source": [
    "There appears to be a moderate positive correlation. Let's calculate the correlation coefficient."
   ]
  },
  {
   "cell_type": "code",
   "execution_count": 200,
   "metadata": {},
   "outputs": [
    {
     "name": "stdout",
     "output_type": "stream",
     "text": [
      "Correlation(Budget/Revenue): 0.569709147195437\n",
      "Coefficient of Determination(r-squared): 0.32456851239815204\n"
     ]
    }
   ],
   "source": [
    "# using DataFrame.corr() function and the Pearson method to calculate correlation:\n",
    "correlations = revenue_df.corr() # returns a dataframe containing pairwise correlation values\n",
    "\n",
    "print('Correlation(Budget/Revenue):', correlations.loc['budget_adj', 'revenue_adj'])\n",
    "print('Coefficient of Determination(r-squared):', correlations.loc['budget_adj', 'revenue_adj']**2)"
   ]
  },
  {
   "cell_type": "markdown",
   "metadata": {},
   "source": [
    "According to the coefficient of determination, approximately 32.46% of the variation in the revenue is explained by the variation in budgets.\n",
    "\n",
    "#### Popularity\n",
    "\n",
    "Again, let's create a scatter plot first."
   ]
  },
  {
   "cell_type": "code",
   "execution_count": 201,
   "metadata": {},
   "outputs": [
    {
     "data": {
      "image/png": "[encoded data removed]",
      "text/plain": [
       "<Figure size 1152x576 with 1 Axes>"
      ]
     },
     "metadata": {},
     "output_type": "display_data"
    }
   ],
   "source": [
    "# using matplotlib's scatter() function:\n",
    "\n",
    "fig = plt.figure(figsize = (16, 8))\n",
    "ax = plt.axes()\n",
    "ax.scatter(revenue_df['popularity'], revenue_df['revenue_adj'])\n",
    "plt.xlabel('Popularity')\n",
    "plt.ylabel('Revenue (Adjusted)')\n",
    "plt.title('Scatter-plot Between Popularity And Revenue')\n",
    "plt.show()"
   ]
  },
  {
   "cell_type": "markdown",
   "metadata": {},
   "source": [
    "There seems to be a moderate positive correlation between popularity and revenue. Let's look at the correlation coefficient."
   ]
  },
  {
   "cell_type": "code",
   "execution_count": 202,
   "metadata": {},
   "outputs": [
    {
     "name": "stdout",
     "output_type": "stream",
     "text": [
      "Correlation(Popularity/Revenue): 0.5463587470508655\n",
      "Coefficient of Determination(r-squared): 0.2985078804789916\n"
     ]
    }
   ],
   "source": [
    "print('Correlation(Popularity/Revenue):', correlations.loc['popularity', 'revenue_adj'])\n",
    "print('Coefficient of Determination(r-squared):', correlations.loc['popularity', 'revenue_adj']**2)"
   ]
  },
  {
   "cell_type": "markdown",
   "metadata": {},
   "source": [
    "Approximately 29.85% of the variation in revenue is explained by the variation in popularity.\n",
    "\n",
    "#### Cast\n",
    "\n",
    "Let's take a look at the histogram for all revenues."
   ]
  },
  {
   "cell_type": "code",
   "execution_count": 203,
   "metadata": {},
   "outputs": [
    {
     "data": {
      "image/png": "[encoded data removed]",
      "text/plain": [
       "<Figure size 1152x576 with 1 Axes>"
      ]
     },
     "metadata": {},
     "output_type": "display_data"
    },
    {
     "name": "stdout",
     "output_type": "stream",
     "text": [
      "Revenue Statistics:\n"
     ]
    },
    {
     "data": {
      "text/plain": [
       "count    3.840000e+03\n",
       "mean     1.375644e+08\n",
       "std      2.163462e+08\n",
       "min      1.385334e+01\n",
       "25%      1.859524e+07\n",
       "50%      6.193404e+07\n",
       "75%      1.645421e+08\n",
       "max      2.827124e+09\n",
       "Name: revenue_adj, dtype: float64"
      ]
     },
     "execution_count": 203,
     "metadata": {},
     "output_type": "execute_result"
    }
   ],
   "source": [
    "fig = plt.figure(figsize = (16, 8))\n",
    "ax = plt.axes()\n",
    "ax.hist(revenue_df['revenue_adj'], bins=25)\n",
    "plt.xticks(np.arange(0, revenue_df['revenue_adj'].max()+1, 0.1e9)) # setting a higher frequency for ticks on x axis\n",
    "plt.xlabel('Revenue')\n",
    "plt.ylabel('Frequency')\n",
    "plt.title('Histogram of Revenues')\n",
    "plt.show()\n",
    "\n",
    "# let's take a look at some statistics as well:\n",
    "print('Revenue Statistics:')\n",
    "revenue_df['revenue_adj'].describe()"
   ]
  },
  {
   "cell_type": "markdown",
   "metadata": {},
   "source": [
    "Most movies have revenues less than 200 million dollars. So exactly what threshold revenue should be set for a movie to be said to have \"high-revenue\"? I will set the following definition:\n",
    "\n",
    "__High revenue:__ Revenue higher than 70% of the movies.\n",
    "\n",
    "Of course, this definition cannot be proven to be right or wrong. But I think that 70% is a reasonable percentile value.\n",
    "\n",
    "Let's calculate the threshold revenue."
   ]
  },
  {
   "cell_type": "code",
   "execution_count": 204,
   "metadata": {},
   "outputs": [
    {
     "name": "stdout",
     "output_type": "stream",
     "text": [
      "Threshold revenue: 133175037.1469553\n"
     ]
    }
   ],
   "source": [
    "# using pandas' built-in function, quantile()\n",
    "threshold_revenue = revenue_df['revenue_adj'].quantile(0.7) \n",
    "\n",
    "print('Threshold revenue:', threshold_revenue)"
   ]
  },
  {
   "cell_type": "markdown",
   "metadata": {},
   "source": [
    "About 133 million dollars. That is reasonably high revenue.\n",
    "\n",
    "_Returning to the question of the cast's correlation with movie revenue_, in order to determine the actors correlating to high revenues, I will find the top 20 actors who have acted in most high-revenue movies.\n",
    "\n",
    "First let's create a dataframe with only high-revenue movies."
   ]
  },
  {
   "cell_type": "code",
   "execution_count": 205,
   "metadata": {},
   "outputs": [
    {
     "name": "stdout",
     "output_type": "stream",
     "text": [
      "Number of high-revenue movies: 1152\n"
     ]
    },
    {
     "data": {
      "text/html": [
       "<div>\n",
       "<style scoped>\n",
       "    .dataframe tbody tr th:only-of-type {\n",
       "        vertical-align: middle;\n",
       "    }\n",
       "\n",
       "    .dataframe tbody tr th {\n",
       "        vertical-align: top;\n",
       "    }\n",
       "\n",
       "    .dataframe thead th {\n",
       "        text-align: right;\n",
       "    }\n",
       "</style>\n",
       "<table border=\"1\" class=\"dataframe\">\n",
       "  <thead>\n",
       "    <tr style=\"text-align: right;\">\n",
       "      <th></th>\n",
       "      <th>id</th>\n",
       "      <th>popularity</th>\n",
       "      <th>original_title</th>\n",
       "      <th>cast</th>\n",
       "      <th>director</th>\n",
       "      <th>runtime</th>\n",
       "      <th>genres</th>\n",
       "      <th>production_companies</th>\n",
       "      <th>release_date</th>\n",
       "      <th>vote_average</th>\n",
       "      <th>release_year</th>\n",
       "      <th>budget_adj</th>\n",
       "      <th>revenue_adj</th>\n",
       "    </tr>\n",
       "  </thead>\n",
       "  <tbody>\n",
       "    <tr>\n",
       "      <th>0</th>\n",
       "      <td>135397</td>\n",
       "      <td>32.985763</td>\n",
       "      <td>Jurassic World</td>\n",
       "      <td>[Chris Pratt, Bryce Dallas Howard, Irrfan Khan...</td>\n",
       "      <td>Colin Trevorrow</td>\n",
       "      <td>124</td>\n",
       "      <td>[Action, Adventure, Science Fiction, Thriller]</td>\n",
       "      <td>[Universal Studios, Amblin Entertainment, Lege...</td>\n",
       "      <td>2015-06-09</td>\n",
       "      <td>6.5</td>\n",
       "      <td>2015</td>\n",
       "      <td>1.379999e+08</td>\n",
       "      <td>1.392446e+09</td>\n",
       "    </tr>\n",
       "    <tr>\n",
       "      <th>1</th>\n",
       "      <td>76341</td>\n",
       "      <td>28.419936</td>\n",
       "      <td>Mad Max: Fury Road</td>\n",
       "      <td>[Tom Hardy, Charlize Theron, Hugh Keays-Byrne,...</td>\n",
       "      <td>George Miller</td>\n",
       "      <td>120</td>\n",
       "      <td>[Action, Adventure, Science Fiction, Thriller]</td>\n",
       "      <td>[Village Roadshow Pictures, Kennedy Miller Pro...</td>\n",
       "      <td>2015-05-13</td>\n",
       "      <td>7.1</td>\n",
       "      <td>2015</td>\n",
       "      <td>1.379999e+08</td>\n",
       "      <td>3.481613e+08</td>\n",
       "    </tr>\n",
       "    <tr>\n",
       "      <th>2</th>\n",
       "      <td>262500</td>\n",
       "      <td>13.112507</td>\n",
       "      <td>Insurgent</td>\n",
       "      <td>[Shailene Woodley, Theo James, Kate Winslet, A...</td>\n",
       "      <td>Robert Schwentke</td>\n",
       "      <td>119</td>\n",
       "      <td>[Adventure, Science Fiction, Thriller]</td>\n",
       "      <td>[Summit Entertainment, Mandeville Films, Red W...</td>\n",
       "      <td>2015-03-18</td>\n",
       "      <td>6.3</td>\n",
       "      <td>2015</td>\n",
       "      <td>1.012000e+08</td>\n",
       "      <td>2.716190e+08</td>\n",
       "    </tr>\n",
       "    <tr>\n",
       "      <th>3</th>\n",
       "      <td>140607</td>\n",
       "      <td>11.173104</td>\n",
       "      <td>Star Wars: The Force Awakens</td>\n",
       "      <td>[Harrison Ford, Mark Hamill, Carrie Fisher, Ad...</td>\n",
       "      <td>J.J. Abrams</td>\n",
       "      <td>136</td>\n",
       "      <td>[Action, Adventure, Science Fiction, Fantasy]</td>\n",
       "      <td>[Lucasfilm, Truenorth Productions, Bad Robot]</td>\n",
       "      <td>2015-12-15</td>\n",
       "      <td>7.5</td>\n",
       "      <td>2015</td>\n",
       "      <td>1.839999e+08</td>\n",
       "      <td>1.902723e+09</td>\n",
       "    </tr>\n",
       "    <tr>\n",
       "      <th>4</th>\n",
       "      <td>168259</td>\n",
       "      <td>9.335014</td>\n",
       "      <td>Furious 7</td>\n",
       "      <td>[Vin Diesel, Paul Walker, Jason Statham, Miche...</td>\n",
       "      <td>James Wan</td>\n",
       "      <td>137</td>\n",
       "      <td>[Action, Crime, Thriller]</td>\n",
       "      <td>[Universal Pictures, Original Film, Media Righ...</td>\n",
       "      <td>2015-04-01</td>\n",
       "      <td>7.3</td>\n",
       "      <td>2015</td>\n",
       "      <td>1.747999e+08</td>\n",
       "      <td>1.385749e+09</td>\n",
       "    </tr>\n",
       "  </tbody>\n",
       "</table>\n",
       "</div>"
      ],
      "text/plain": [
       "       id  popularity                original_title  \\\n",
       "0  135397   32.985763                Jurassic World   \n",
       "1   76341   28.419936            Mad Max: Fury Road   \n",
       "2  262500   13.112507                     Insurgent   \n",
       "3  140607   11.173104  Star Wars: The Force Awakens   \n",
       "4  168259    9.335014                     Furious 7   \n",
       "\n",
       "                                                cast          director  \\\n",
       "0  [Chris Pratt, Bryce Dallas Howard, Irrfan Khan...   Colin Trevorrow   \n",
       "1  [Tom Hardy, Charlize Theron, Hugh Keays-Byrne,...     George Miller   \n",
       "2  [Shailene Woodley, Theo James, Kate Winslet, A...  Robert Schwentke   \n",
       "3  [Harrison Ford, Mark Hamill, Carrie Fisher, Ad...       J.J. Abrams   \n",
       "4  [Vin Diesel, Paul Walker, Jason Statham, Miche...         James Wan   \n",
       "\n",
       "   runtime                                          genres  \\\n",
       "0      124  [Action, Adventure, Science Fiction, Thriller]   \n",
       "1      120  [Action, Adventure, Science Fiction, Thriller]   \n",
       "2      119          [Adventure, Science Fiction, Thriller]   \n",
       "3      136   [Action, Adventure, Science Fiction, Fantasy]   \n",
       "4      137                       [Action, Crime, Thriller]   \n",
       "\n",
       "                                production_companies release_date  \\\n",
       "0  [Universal Studios, Amblin Entertainment, Lege...   2015-06-09   \n",
       "1  [Village Roadshow Pictures, Kennedy Miller Pro...   2015-05-13   \n",
       "2  [Summit Entertainment, Mandeville Films, Red W...   2015-03-18   \n",
       "3      [Lucasfilm, Truenorth Productions, Bad Robot]   2015-12-15   \n",
       "4  [Universal Pictures, Original Film, Media Righ...   2015-04-01   \n",
       "\n",
       "   vote_average  release_year    budget_adj   revenue_adj  \n",
       "0           6.5          2015  1.379999e+08  1.392446e+09  \n",
       "1           7.1          2015  1.379999e+08  3.481613e+08  \n",
       "2           6.3          2015  1.012000e+08  2.716190e+08  \n",
       "3           7.5          2015  1.839999e+08  1.902723e+09  \n",
       "4           7.3          2015  1.747999e+08  1.385749e+09  "
      ]
     },
     "execution_count": 205,
     "metadata": {},
     "output_type": "execute_result"
    }
   ],
   "source": [
    "high_revenue_movies = revenue_df[revenue_df['revenue_adj'] >= threshold_revenue]\n",
    "\n",
    "print('Number of high-revenue movies:', len(high_revenue_movies))\n",
    "high_revenue_movies.head()"
   ]
  },
  {
   "cell_type": "code",
   "execution_count": 206,
   "metadata": {},
   "outputs": [
    {
     "name": "stdout",
     "output_type": "stream",
     "text": [
      "Total number of actors: 2654\n",
      "\n",
      "The top 20:\n",
      "\n",
      "Tom Cruise               27\n",
      "Brad Pitt                22\n",
      "Tom Hanks                21\n",
      "Robert De Niro           20\n",
      "Eddie Murphy             20\n",
      "Harrison Ford            19\n",
      "Bruce Willis             19\n",
      "Sylvester Stallone       19\n",
      "Adam Sandler             18\n",
      "Jim Carrey               18\n",
      "Cameron Diaz             17\n",
      "Ben Stiller              17\n",
      "Will Smith               17\n",
      "Denzel Washington        17\n",
      "Samuel L. Jackson        17\n",
      "Arnold Schwarzenegger    17\n",
      "Robin Williams           16\n",
      "Mel Gibson               16\n",
      "Sean Connery             15\n",
      "Julia Roberts            15\n",
      "dtype: int64\n"
     ]
    }
   ],
   "source": [
    "# We should have a function to aggregate list data from a column and return counts for unique members.\n",
    "# This function will also be useful next analyses regarding genres and production companies\n",
    "\n",
    "def aggregate_list_column(df, column):\n",
    "    # aggregate all lists into a single pandas series:\n",
    "    list_sum = pd.Series(df[column][df[column].notna()].sum())\n",
    "    \n",
    "    # converting data to counts of unique elements, in descending order and return:\n",
    "    counts = list_sum.value_counts(ascending=False)\n",
    "    return counts\n",
    "                                   \n",
    "counts = aggregate_list_column(high_revenue_movies, 'cast')\n",
    "print('Total number of actors:', len(counts))\n",
    "\n",
    "# display the top twenty actors:\n",
    "print('\\nThe top 20:\\n')\n",
    "pprint(counts.head(20))"
   ]
  },
  {
   "cell_type": "markdown",
   "metadata": {},
   "source": [
    "Tom Cruise comes out on top! He also seems to have quite a lead. We also see other famous names like Brad Pitt, Tom Hanks, Sylvester Stallone, Arnold Schwarzenegger and Jim Carrey."
   ]
  },
  {
   "cell_type": "markdown",
   "metadata": {},
   "source": [
    "#### Genres\n",
    "\n",
    "We'll follow the same procedure as that for cast and find out the top 5 genres that are present in most high-revenue movies."
   ]
  },
  {
   "cell_type": "code",
   "execution_count": 207,
   "metadata": {},
   "outputs": [
    {
     "name": "stdout",
     "output_type": "stream",
     "text": [
      "Total number of genres: 18\n",
      "\n",
      "The top 5:\n",
      "\n",
      "Action       457\n",
      "Drama        402\n",
      "Comedy       398\n",
      "Adventure    390\n",
      "Thriller     345\n",
      "dtype: int64\n"
     ]
    }
   ],
   "source": [
    "counts = aggregate_list_column(high_revenue_movies, 'genres')\n",
    "print('Total number of genres:', len(counts))\n",
    "\n",
    "# display the top 5 genres:\n",
    "print('\\nThe top 5:\\n')\n",
    "pprint(counts.head(5))"
   ]
  },
  {
   "cell_type": "markdown",
   "metadata": {},
   "source": [
    "This result doesn't surprise me. The big blockbusters always seem to have these genres.\n",
    "\n",
    "#### Production Companies\n",
    "\n",
    "Let's list the top 10 production companies."
   ]
  },
  {
   "cell_type": "code",
   "execution_count": 208,
   "metadata": {
    "scrolled": true
   },
   "outputs": [
    {
     "name": "stdout",
     "output_type": "stream",
     "text": [
      "Total number of production companies: 1004\n",
      "\n",
      "The top 10:\n",
      "\n",
      "Universal Pictures                        148\n",
      "Warner Bros.                              146\n",
      "Paramount Pictures                        133\n",
      "Twentieth Century Fox Film Corporation    114\n",
      "Columbia Pictures                          81\n",
      "Walt Disney Pictures                       71\n",
      "New Line Cinema                            49\n",
      "Columbia Pictures Corporation              47\n",
      "DreamWorks SKG                             41\n",
      "Touchstone Pictures                        40\n",
      "dtype: int64\n"
     ]
    }
   ],
   "source": [
    "counts = aggregate_list_column(high_revenue_movies, 'production_companies')\n",
    "print('Total number of production companies:', len(counts))\n",
    "\n",
    "# display the top 10 production companies:\n",
    "print('\\nThe top 10:\\n')\n",
    "pprint(counts.head(10))"
   ]
  },
  {
   "cell_type": "markdown",
   "metadata": {},
   "source": [
    "These are the most famous production companies. And now I know the reason.\n",
    "\n",
    "#### Director\n",
    "\n",
    "Let's find out the top 5 directors."
   ]
  },
  {
   "cell_type": "code",
   "execution_count": 209,
   "metadata": {},
   "outputs": [
    {
     "name": "stdout",
     "output_type": "stream",
     "text": [
      "Total number of directors: 554\n",
      "\n",
      "The top 5:\n",
      "\n",
      "Steven Spielberg    23\n",
      "Robert Zemeckis     13\n",
      "Tim Burton          11\n",
      "Tony Scott          10\n",
      "Ridley Scott        10\n",
      "Name: director, dtype: int64\n"
     ]
    }
   ],
   "source": [
    "top_directors_data = pd.Series(high_revenue_movies['director']).dropna()\n",
    "counts = top_directors_data.value_counts(ascending=False)\n",
    "\n",
    "print('Total number of directors:', len(counts))\n",
    "\n",
    "# display the top 5 directors:\n",
    "print('\\nThe top 5:\\n')\n",
    "pprint(counts.head(5))"
   ]
  },
  {
   "cell_type": "markdown",
   "metadata": {},
   "source": [
    "Steven Spielberg is way ahead with 23 movies. He is considered one of the best direcotrs, if not the best, in the history of Hollywood\n",
    "\n",
    "#### Month and Weekday\n",
    "\n",
    "Let's get the number of high-revenue movies for each month and for each weekday."
   ]
  },
  {
   "cell_type": "code",
   "execution_count": 210,
   "metadata": {},
   "outputs": [],
   "source": [
    "# get series for months and weekdays:\n",
    "months = ['Jan', 'Feb', 'Mar', 'Apr', 'May', 'Jun', 'Jul', 'Aug', 'Sep', 'Oct', 'Nov', 'Dec']\n",
    "weekdays = ['Mon', 'Tue', 'Wed', 'Thu', 'Fri', 'Sat', 'Sun']\n",
    "\n",
    "def getmonth(datetime_obj):\n",
    "    if not isinstance(datetime_obj, float):\n",
    "        return months[datetime_obj.month-1]\n",
    "    return np.nan\n",
    "\n",
    "def getweekday(datetime_obj):\n",
    "    if not isinstance(datetime_obj, float):\n",
    "        return weekdays[datetime_obj.weekday()]\n",
    "    return np.nan\n",
    "\n",
    "month_series = high_revenue_movies['release_date'].apply(getmonth)\n",
    "weekday_series = high_revenue_movies['release_date'].apply(getweekday)\n",
    "\n",
    "# get counts of high movies for each month and weekday:\n",
    "month_counts = month_series.value_counts(ascending=False)\n",
    "weekday_counts = weekday_series.value_counts(ascending=False)\n",
    "\n",
    "# rearrange the series' indexes in temporal order:\n",
    "month_counts = month_counts[months]\n",
    "weekday_counts = weekday_counts[weekdays]"
   ]
  },
  {
   "cell_type": "markdown",
   "metadata": {},
   "source": [
    "Now let's plot some bar graphs to visualize these counts."
   ]
  },
  {
   "cell_type": "code",
   "execution_count": 211,
   "metadata": {},
   "outputs": [
    {
     "data": {
      "image/png": "[encoded data removed]",
      "text/plain": [
       "<Figure size 720x432 with 1 Axes>"
      ]
     },
     "metadata": {},
     "output_type": "display_data"
    },
    {
     "data": {
      "image/png": "[encoded data removed]",
      "text/plain": [
       "<Figure size 720x432 with 1 Axes>"
      ]
     },
     "metadata": {},
     "output_type": "display_data"
    }
   ],
   "source": [
    "# plot bar graphs to visualize the data:\n",
    " # for months:\n",
    "fig = plt.figure(figsize=(10, 6))\n",
    "ax = plt.axes()\n",
    "ax.bar(month_counts.index, month_counts)\n",
    "plt.xlabel('Month')\n",
    "plt.ylabel('High-Revenue Movies')\n",
    "plt.title('High-Revenue Movies In Each Month')\n",
    "plt.show()\n",
    "\n",
    " # for weekdays:\n",
    "fig = plt.figure(figsize=(10, 6))\n",
    "ax = plt.axes()\n",
    "ax.bar(weekday_counts.index, weekday_counts)\n",
    "plt.xlabel('Weekday')\n",
    "plt.ylabel('High-Revenue Movies')\n",
    "plt.title('High-Revenue Movies In Each Weekday')\n",
    "plt.show()"
   ]
  },
  {
   "cell_type": "markdown",
   "metadata": {},
   "source": [
    "In the month plot we get peeks in the months of June and Dec. These might be explained by the fact that a lot of people are on summer or winter vacations. So this kind of pattern for months is expected. On the other hand, for weekdays, we get the lowest number of high-revenue movies on weekends. Although it would be wrong to expect any pattern for weekdays because revenue collection is spread out over months, but still, this is kind of unexpected and goes to show that the weekday of release might not correlate much to the revenue.\n",
    "\n",
    "Let's take a look at the average revenue for each month and weekday."
   ]
  },
  {
   "cell_type": "code",
   "execution_count": 213,
   "metadata": {},
   "outputs": [
    {
     "name": "stdout",
     "output_type": "stream",
     "text": [
      "<class 'pandas.core.frame.DataFrame'>\n",
      "Int64Index: 3840 entries, 0 to 10848\n",
      "Data columns (total 15 columns):\n",
      "id                      3840 non-null int64\n",
      "popularity              3840 non-null float64\n",
      "original_title          3840 non-null object\n",
      "cast                    3836 non-null object\n",
      "director                3839 non-null object\n",
      "runtime                 3840 non-null int64\n",
      "genres                  3840 non-null object\n",
      "production_companies    3795 non-null object\n",
      "release_date            3840 non-null datetime64[ns]\n",
      "vote_average            3840 non-null float64\n",
      "release_year            3840 non-null int64\n",
      "budget_adj              3840 non-null float64\n",
      "revenue_adj             3840 non-null float64\n",
      "release_month           3840 non-null object\n",
      "release_weekday         3840 non-null object\n",
      "dtypes: datetime64[ns](1), float64(4), int64(3), object(7)\n",
      "memory usage: 480.0+ KB\n"
     ]
    }
   ],
   "source": [
    "# first we need to add month and weekday columns in order to group them\n",
    "revenue_df = revenue_df.assign(release_month=revenue_df['release_date'].apply(getmonth))\n",
    "revenue_df = revenue_df.assign(release_weekday=revenue_df['release_date'].apply(getweekday))\n",
    "revenue_df.info()"
   ]
  },
  {
   "cell_type": "markdown",
   "metadata": {},
   "source": [
    "Two new rows have been added as shown above."
   ]
  },
  {
   "cell_type": "code",
   "execution_count": 220,
   "metadata": {},
   "outputs": [],
   "source": [
    "# next let's use groupby() to find mean revenues for each month and weekday:\n",
    "month_group = revenue_df.groupby('release_month')['revenue_adj']\n",
    "weekday_group = revenue_df.groupby('release_weekday')['revenue_adj']\n",
    "\n",
    "# calculate the means:\n",
    "mean_revenue_by_month = month_group.mean()\n",
    "mean_revenue_by_weekday = weekday_group.mean()\n",
    "\n",
    "# rearrange by temporal order:\n",
    "mean_revenue_by_month = mean_revenue_by_month[months]\n",
    "mean_revenue_by_weekday = mean_revenue_by_weekday[weekdays]"
   ]
  },
  {
   "cell_type": "markdown",
   "metadata": {},
   "source": [
    "Let's make plots to visualize the mean revenues for each month and weekday:"
   ]
  },
  {
   "cell_type": "code",
   "execution_count": 221,
   "metadata": {},
   "outputs": [
    {
     "data": {
      "image/png": "[encoded data removed]",
      "text/plain": [
       "<Figure size 720x432 with 1 Axes>"
      ]
     },
     "metadata": {},
     "output_type": "display_data"
    },
    {
     "data": {
      "image/png": "[encoded data removed]",
      "text/plain": [
       "<Figure size 720x432 with 1 Axes>"
      ]
     },
     "metadata": {},
     "output_type": "display_data"
    }
   ],
   "source": [
    "# plot bar graphs to visualize the data:\n",
    " # for months:\n",
    "fig = plt.figure(figsize=(10, 6))\n",
    "ax = plt.axes()\n",
    "ax.bar(mean_revenue_by_month.index, mean_revenue_by_month)\n",
    "plt.xlabel('Month')\n",
    "plt.ylabel('Average Revenue')\n",
    "plt.title('Average Revenue In Each Month')\n",
    "plt.show()\n",
    "\n",
    " # for weekdays:\n",
    "fig = plt.figure(figsize=(10, 6))\n",
    "ax = plt.axes()\n",
    "ax.bar(mean_revenue_by_weekday.index, mean_revenue_by_weekday)\n",
    "plt.xlabel('Weekday')\n",
    "plt.ylabel('Average Revenue')\n",
    "plt.title('Average Revenue In Each Weekday')\n",
    "plt.show()"
   ]
  },
  {
   "cell_type": "markdown",
   "metadata": {},
   "source": [
    "The pattern for months is reinforced by the plot here. June and Dec and months close to them are the best months for releasing a movie. On the other hand, the plot for weekdays reinforces the idea that weekdays don't correlate much to movie revenue as we see a rather different pattern here."
   ]
  },
  {
   "cell_type": "markdown",
   "metadata": {},
   "source": [
    "<a id='conclusions'></a>\n",
    "## Conclusions\n",
    "\n",
    "> **Tip**: Finally, summarize your findings and the results that have been performed. Make sure that you are clear with regards to the limitations of your exploration. If you haven't done any statistical tests, do not imply any statistical conclusions. And make sure you avoid implying causation from correlation!\n",
    "\n",
    "> **Tip**: Once you are satisfied with your work, you should save a copy of the report in HTML or PDF form via the **File** > **Download as** submenu. Before exporting your report, check over it to make sure that the flow of the report is complete. You should probably remove all of the \"Tip\" quotes like this one so that the presentation is as tidy as possible. Congratulations!"
   ]
  },
  {
   "cell_type": "code",
   "execution_count": null,
   "metadata": {
    "collapsed": true
   },
   "outputs": [],
   "source": []
  }
 ],
 "metadata": {
  "kernelspec": {
   "display_name": "Python 3",
   "language": "python",
   "name": "python3"
  },
  "language_info": {
   "codemirror_mode": {
    "name": "ipython",
    "version": 3
   },
   "file_extension": ".py",
   "mimetype": "text/x-python",
   "name": "python",
   "nbconvert_exporter": "python",
   "pygments_lexer": "ipython3",
   "version": "3.6.5"
  }
 },
 "nbformat": 4,
 "nbformat_minor": 2
}
